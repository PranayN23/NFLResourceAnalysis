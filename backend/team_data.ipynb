{
 "cells": [
  {
   "cell_type": "code",
   "execution_count": 1,
   "metadata": {},
   "outputs": [],
   "source": [
    "import nfl_data_py as nfl\n",
    "import pandas as pd\n",
    "import numpy as np"
   ]
  },
  {
   "cell_type": "code",
   "execution_count": 11,
   "metadata": {},
   "outputs": [
    {
     "name": "stderr",
     "output_type": "stream",
     "text": [
      "WARNING:root:The win totals data source is currently in flux and may be out of date.\n"
     ]
    }
   ],
   "source": [
    "\n",
    "df = nfl.import_win_totals([2021])\n"
   ]
  },
  {
   "cell_type": "code",
   "execution_count": 12,
   "metadata": {},
   "outputs": [
    {
     "name": "stdout",
     "output_type": "stream",
     "text": [
      "               game_id market_type abbr  lines  odds  opening_lines  \\\n",
      "437011  2021_01_DAL_TB  money_line  DAL    NaN   378            0.0   \n",
      "437012  2021_01_DAL_TB  money_line  DAL    NaN   378            0.0   \n",
      "437013  2021_01_DAL_TB  money_line   TB    NaN  -425            0.0   \n",
      "437014  2021_01_DAL_TB  money_line   TB    NaN  -425            0.0   \n",
      "437015  2021_01_DAL_TB  money_line  DAL    NaN   350            0.0   \n",
      "\n",
      "        opening_odds      book  season  \n",
      "437011         240.0    5Dimes    2021  \n",
      "437012         240.0  sportbet    2021  \n",
      "437013        -280.0    5Dimes    2021  \n",
      "437014        -280.0  sportbet    2021  \n",
      "437015         230.0    bet365    2021  \n"
     ]
    }
   ],
   "source": [
    "print(df.head())"
   ]
  },
  {
   "cell_type": "code",
   "execution_count": null,
   "metadata": {},
   "outputs": [],
   "source": []
  },
  {
   "cell_type": "code",
   "execution_count": null,
   "metadata": {},
   "outputs": [],
   "source": []
  }
 ],
 "metadata": {
  "kernelspec": {
   "display_name": "venv",
   "language": "python",
   "name": "python3"
  },
  "language_info": {
   "codemirror_mode": {
    "name": "ipython",
    "version": 3
   },
   "file_extension": ".py",
   "mimetype": "text/x-python",
   "name": "python",
   "nbconvert_exporter": "python",
   "pygments_lexer": "ipython3",
   "version": "3.11.10"
  }
 },
 "nbformat": 4,
 "nbformat_minor": 2
}
