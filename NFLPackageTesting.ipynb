{
 "cells": [
  {
   "cell_type": "code",
   "id": "initial_id",
   "metadata": {
    "collapsed": true,
    "ExecuteTime": {
     "end_time": "2025-02-04T23:09:02.320265Z",
     "start_time": "2025-02-04T23:09:02.306516Z"
    }
   },
   "source": [
    "import nfl_data_py as nfl\n",
    "import pandas as pd"
   ],
   "outputs": [],
   "execution_count": 3
  },
  {
   "metadata": {
    "ExecuteTime": {
     "end_time": "2025-02-04T23:09:02.990412Z",
     "start_time": "2025-02-04T23:09:02.337165Z"
    }
   },
   "cell_type": "code",
   "source": [
    "player_data = nfl.import_seasonal_data([2013], 'REG')\n",
    "player_data.head()\n",
    "player_data.columns"
   ],
   "id": "99f70b353744420f",
   "outputs": [
    {
     "data": {
      "text/plain": [
       "Index(['player_id', 'season', 'season_type', 'completions', 'attempts',\n",
       "       'passing_yards', 'passing_tds', 'interceptions', 'sacks', 'sack_yards',\n",
       "       'sack_fumbles', 'sack_fumbles_lost', 'passing_air_yards',\n",
       "       'passing_yards_after_catch', 'passing_first_downs', 'passing_epa',\n",
       "       'passing_2pt_conversions', 'pacr', 'dakota', 'carries', 'rushing_yards',\n",
       "       'rushing_tds', 'rushing_fumbles', 'rushing_fumbles_lost',\n",
       "       'rushing_first_downs', 'rushing_epa', 'rushing_2pt_conversions',\n",
       "       'receptions', 'targets', 'receiving_yards', 'receiving_tds',\n",
       "       'receiving_fumbles', 'receiving_fumbles_lost', 'receiving_air_yards',\n",
       "       'receiving_yards_after_catch', 'receiving_first_downs', 'receiving_epa',\n",
       "       'receiving_2pt_conversions', 'racr', 'target_share', 'air_yards_share',\n",
       "       'wopr_x', 'special_teams_tds', 'fantasy_points', 'fantasy_points_ppr',\n",
       "       'games', 'tgt_sh', 'ay_sh', 'yac_sh', 'wopr_y', 'ry_sh', 'rtd_sh',\n",
       "       'rfd_sh', 'rtdfd_sh', 'dom', 'w8dom', 'yptmpa', 'ppr_sh'],\n",
       "      dtype='object')"
      ]
     },
     "execution_count": 4,
     "metadata": {},
     "output_type": "execute_result"
    }
   ],
   "execution_count": 4
  },
  {
   "metadata": {
    "ExecuteTime": {
     "end_time": "2025-02-04T23:09:03.547862Z",
     "start_time": "2025-02-04T23:09:03.077770Z"
    }
   },
   "cell_type": "code",
   "source": [
    "players = nfl.import_seasonal_rosters([2013])\n",
    "players.tail()"
   ],
   "id": "6fe5a7fab4ea80e1",
   "outputs": [
    {
     "data": {
      "text/plain": [
       "      season team position depth_chart_position jersey_number status  \\\n",
       "2131    2013   KC        T                 None            72    ACT   \n",
       "2132    2013  NYG        T                 None            72    ACT   \n",
       "2133    2013  NYG       QB                 None             9    ACT   \n",
       "2134    2013  NYJ       CB                 None            27    ACT   \n",
       "2135    2013  TEN        G                 None            70    ACT   \n",
       "\n",
       "         player_name first_name last_name birth_date  ...  \\\n",
       "2131     Eric Fisher       Eric    Fisher 1991-01-05  ...   \n",
       "2132     Justin Pugh     Justin      Pugh 1990-08-15  ...   \n",
       "2133     Ryan Nassib       Ryan    Nassib 1990-03-10  ...   \n",
       "2134    Dee Milliner   DeMarcus  Milliner 1991-09-14  ...   \n",
       "2135  Chance Warmack     Chance   Warmack 1991-09-14  ...   \n",
       "\n",
       "      status_description_abbr  football_name     esb_id gsis_it_id  \\\n",
       "2131                      I01           Eric  FIS336183      39947   \n",
       "2132                      A01         Justin  PUG243645      39965   \n",
       "2133                      I01           Ryan  NAS738294      40058   \n",
       "2134                      A01            Dee  MIL631115       None   \n",
       "2135                      A01         Chance  WAR426211      39956   \n",
       "\n",
       "                                  smart_id entry_year rookie_year draft_club  \\\n",
       "2131  32004649-5333-6183-cdca-f7afe6912ebf       2013        2013         KC   \n",
       "2132  32005055-4724-3645-b43d-c9bf6229b7dd       2013        2013        NYG   \n",
       "2133  32004e41-5373-8294-3fbc-4f2af4804dbd       2013        2013        NYG   \n",
       "2134  32004d49-4c63-1115-83c1-560122afae13       2013        2013        NYJ   \n",
       "2135  32005741-5242-6211-859d-77b0d9181d73       2013        2013        TEN   \n",
       "\n",
       "     draft_number   age  \n",
       "2131            1  22.0  \n",
       "2132           19  23.0  \n",
       "2133          110  23.0  \n",
       "2134            9  21.0  \n",
       "2135           10  21.0  \n",
       "\n",
       "[5 rows x 37 columns]"
      ],
      "text/html": [
       "<div>\n",
       "<style scoped>\n",
       "    .dataframe tbody tr th:only-of-type {\n",
       "        vertical-align: middle;\n",
       "    }\n",
       "\n",
       "    .dataframe tbody tr th {\n",
       "        vertical-align: top;\n",
       "    }\n",
       "\n",
       "    .dataframe thead th {\n",
       "        text-align: right;\n",
       "    }\n",
       "</style>\n",
       "<table border=\"1\" class=\"dataframe\">\n",
       "  <thead>\n",
       "    <tr style=\"text-align: right;\">\n",
       "      <th></th>\n",
       "      <th>season</th>\n",
       "      <th>team</th>\n",
       "      <th>position</th>\n",
       "      <th>depth_chart_position</th>\n",
       "      <th>jersey_number</th>\n",
       "      <th>status</th>\n",
       "      <th>player_name</th>\n",
       "      <th>first_name</th>\n",
       "      <th>last_name</th>\n",
       "      <th>birth_date</th>\n",
       "      <th>...</th>\n",
       "      <th>status_description_abbr</th>\n",
       "      <th>football_name</th>\n",
       "      <th>esb_id</th>\n",
       "      <th>gsis_it_id</th>\n",
       "      <th>smart_id</th>\n",
       "      <th>entry_year</th>\n",
       "      <th>rookie_year</th>\n",
       "      <th>draft_club</th>\n",
       "      <th>draft_number</th>\n",
       "      <th>age</th>\n",
       "    </tr>\n",
       "  </thead>\n",
       "  <tbody>\n",
       "    <tr>\n",
       "      <th>2131</th>\n",
       "      <td>2013</td>\n",
       "      <td>KC</td>\n",
       "      <td>T</td>\n",
       "      <td>None</td>\n",
       "      <td>72</td>\n",
       "      <td>ACT</td>\n",
       "      <td>Eric Fisher</td>\n",
       "      <td>Eric</td>\n",
       "      <td>Fisher</td>\n",
       "      <td>1991-01-05</td>\n",
       "      <td>...</td>\n",
       "      <td>I01</td>\n",
       "      <td>Eric</td>\n",
       "      <td>FIS336183</td>\n",
       "      <td>39947</td>\n",
       "      <td>32004649-5333-6183-cdca-f7afe6912ebf</td>\n",
       "      <td>2013</td>\n",
       "      <td>2013</td>\n",
       "      <td>KC</td>\n",
       "      <td>1</td>\n",
       "      <td>22.0</td>\n",
       "    </tr>\n",
       "    <tr>\n",
       "      <th>2132</th>\n",
       "      <td>2013</td>\n",
       "      <td>NYG</td>\n",
       "      <td>T</td>\n",
       "      <td>None</td>\n",
       "      <td>72</td>\n",
       "      <td>ACT</td>\n",
       "      <td>Justin Pugh</td>\n",
       "      <td>Justin</td>\n",
       "      <td>Pugh</td>\n",
       "      <td>1990-08-15</td>\n",
       "      <td>...</td>\n",
       "      <td>A01</td>\n",
       "      <td>Justin</td>\n",
       "      <td>PUG243645</td>\n",
       "      <td>39965</td>\n",
       "      <td>32005055-4724-3645-b43d-c9bf6229b7dd</td>\n",
       "      <td>2013</td>\n",
       "      <td>2013</td>\n",
       "      <td>NYG</td>\n",
       "      <td>19</td>\n",
       "      <td>23.0</td>\n",
       "    </tr>\n",
       "    <tr>\n",
       "      <th>2133</th>\n",
       "      <td>2013</td>\n",
       "      <td>NYG</td>\n",
       "      <td>QB</td>\n",
       "      <td>None</td>\n",
       "      <td>9</td>\n",
       "      <td>ACT</td>\n",
       "      <td>Ryan Nassib</td>\n",
       "      <td>Ryan</td>\n",
       "      <td>Nassib</td>\n",
       "      <td>1990-03-10</td>\n",
       "      <td>...</td>\n",
       "      <td>I01</td>\n",
       "      <td>Ryan</td>\n",
       "      <td>NAS738294</td>\n",
       "      <td>40058</td>\n",
       "      <td>32004e41-5373-8294-3fbc-4f2af4804dbd</td>\n",
       "      <td>2013</td>\n",
       "      <td>2013</td>\n",
       "      <td>NYG</td>\n",
       "      <td>110</td>\n",
       "      <td>23.0</td>\n",
       "    </tr>\n",
       "    <tr>\n",
       "      <th>2134</th>\n",
       "      <td>2013</td>\n",
       "      <td>NYJ</td>\n",
       "      <td>CB</td>\n",
       "      <td>None</td>\n",
       "      <td>27</td>\n",
       "      <td>ACT</td>\n",
       "      <td>Dee Milliner</td>\n",
       "      <td>DeMarcus</td>\n",
       "      <td>Milliner</td>\n",
       "      <td>1991-09-14</td>\n",
       "      <td>...</td>\n",
       "      <td>A01</td>\n",
       "      <td>Dee</td>\n",
       "      <td>MIL631115</td>\n",
       "      <td>None</td>\n",
       "      <td>32004d49-4c63-1115-83c1-560122afae13</td>\n",
       "      <td>2013</td>\n",
       "      <td>2013</td>\n",
       "      <td>NYJ</td>\n",
       "      <td>9</td>\n",
       "      <td>21.0</td>\n",
       "    </tr>\n",
       "    <tr>\n",
       "      <th>2135</th>\n",
       "      <td>2013</td>\n",
       "      <td>TEN</td>\n",
       "      <td>G</td>\n",
       "      <td>None</td>\n",
       "      <td>70</td>\n",
       "      <td>ACT</td>\n",
       "      <td>Chance Warmack</td>\n",
       "      <td>Chance</td>\n",
       "      <td>Warmack</td>\n",
       "      <td>1991-09-14</td>\n",
       "      <td>...</td>\n",
       "      <td>A01</td>\n",
       "      <td>Chance</td>\n",
       "      <td>WAR426211</td>\n",
       "      <td>39956</td>\n",
       "      <td>32005741-5242-6211-859d-77b0d9181d73</td>\n",
       "      <td>2013</td>\n",
       "      <td>2013</td>\n",
       "      <td>TEN</td>\n",
       "      <td>10</td>\n",
       "      <td>21.0</td>\n",
       "    </tr>\n",
       "  </tbody>\n",
       "</table>\n",
       "<p>5 rows × 37 columns</p>\n",
       "</div>"
      ]
     },
     "execution_count": 5,
     "metadata": {},
     "output_type": "execute_result"
    }
   ],
   "execution_count": 5
  },
  {
   "metadata": {
    "ExecuteTime": {
     "end_time": "2025-02-04T23:09:03.613424Z",
     "start_time": "2025-02-04T23:09:03.603999Z"
    }
   },
   "cell_type": "code",
   "source": [
    "player_data_named = pd.merge(player_data, players, on= 'player_id', how='inner')\n",
    "print(player_data_named.head())\n",
    "player_data_named.columns"
   ],
   "id": "9ff2383a39a2194c",
   "outputs": [
    {
     "name": "stdout",
     "output_type": "stream",
     "text": [
      "    player_id  season_x season_type  completions  attempts  passing_yards  \\\n",
      "0  00-0006101      2013         REG            0         0            0.0   \n",
      "1  00-0007091      2013         REG            7        12          130.0   \n",
      "2  00-0010346      2013         REG          450       659         5477.0   \n",
      "3  00-0015754      2013         REG            0         0            0.0   \n",
      "4  00-0018956      2013         REG            0         0            0.0   \n",
      "\n",
      "   passing_tds  interceptions  sacks  sack_yards  ...  \\\n",
      "0            0            0.0    0.0         0.0  ...   \n",
      "1            0            1.0    0.0         0.0  ...   \n",
      "2           55           10.0   18.0       120.0  ...   \n",
      "3            0            0.0    0.0         0.0  ...   \n",
      "4            0            0.0    0.0         0.0  ...   \n",
      "\n",
      "   status_description_abbr  football_name     esb_id  gsis_it_id  \\\n",
      "0                      A01           Tony  GON587645        None   \n",
      "1                      A01           Matt  HAS536799       23636   \n",
      "2                      A01         Peyton  MAN515097       23446   \n",
      "3                      A01        Brandon  STO309337        None   \n",
      "4                      A01           Brad  MEE705650        None   \n",
      "\n",
      "                               smart_id  entry_year  rookie_year  draft_club  \\\n",
      "0  3200474f-4e58-7645-6a3b-551f0c43b0ae        1997         1997          KC   \n",
      "1  32004841-5353-6799-a37b-f4bab15e4312        1998         1998          GB   \n",
      "2  32004d41-4e51-5097-63c8-dfd9cac091f8        1998         1998         IND   \n",
      "3  32005354-4f30-9337-17bc-467ac487a2dc        1999         1999         BLT   \n",
      "4  32004d45-4570-5650-9fde-3f0978559238        2000         2000         JAX   \n",
      "\n",
      "   draft_number   age  \n",
      "0            13  37.0  \n",
      "1           187  37.0  \n",
      "2             1  37.0  \n",
      "3           105  37.0  \n",
      "4            60  36.0  \n",
      "\n",
      "[5 rows x 94 columns]\n"
     ]
    },
    {
     "data": {
      "text/plain": [
       "Index(['player_id', 'season_x', 'season_type', 'completions', 'attempts',\n",
       "       'passing_yards', 'passing_tds', 'interceptions', 'sacks', 'sack_yards',\n",
       "       'sack_fumbles', 'sack_fumbles_lost', 'passing_air_yards',\n",
       "       'passing_yards_after_catch', 'passing_first_downs', 'passing_epa',\n",
       "       'passing_2pt_conversions', 'pacr', 'dakota', 'carries', 'rushing_yards',\n",
       "       'rushing_tds', 'rushing_fumbles', 'rushing_fumbles_lost',\n",
       "       'rushing_first_downs', 'rushing_epa', 'rushing_2pt_conversions',\n",
       "       'receptions', 'targets', 'receiving_yards', 'receiving_tds',\n",
       "       'receiving_fumbles', 'receiving_fumbles_lost', 'receiving_air_yards',\n",
       "       'receiving_yards_after_catch', 'receiving_first_downs', 'receiving_epa',\n",
       "       'receiving_2pt_conversions', 'racr', 'target_share', 'air_yards_share',\n",
       "       'wopr_x', 'special_teams_tds', 'fantasy_points', 'fantasy_points_ppr',\n",
       "       'games', 'tgt_sh', 'ay_sh', 'yac_sh', 'wopr_y', 'ry_sh', 'rtd_sh',\n",
       "       'rfd_sh', 'rtdfd_sh', 'dom', 'w8dom', 'yptmpa', 'ppr_sh', 'season_y',\n",
       "       'team', 'position', 'depth_chart_position', 'jersey_number', 'status',\n",
       "       'player_name', 'first_name', 'last_name', 'birth_date', 'height',\n",
       "       'weight', 'college', 'espn_id', 'sportradar_id', 'yahoo_id',\n",
       "       'rotowire_id', 'pff_id', 'pfr_id', 'fantasy_data_id', 'sleeper_id',\n",
       "       'years_exp', 'headshot_url', 'ngs_position', 'week', 'game_type',\n",
       "       'status_description_abbr', 'football_name', 'esb_id', 'gsis_it_id',\n",
       "       'smart_id', 'entry_year', 'rookie_year', 'draft_club', 'draft_number',\n",
       "       'age'],\n",
       "      dtype='object')"
      ]
     },
     "execution_count": 6,
     "metadata": {},
     "output_type": "execute_result"
    }
   ],
   "execution_count": 6
  },
  {
   "metadata": {
    "ExecuteTime": {
     "end_time": "2025-02-04T23:14:17.322872Z",
     "start_time": "2025-02-04T23:14:17.223182Z"
    }
   },
   "cell_type": "code",
   "source": "player_data_named.to_csv('rough_nfl_package_merged_2013.csv')",
   "id": "9bc2233f08f19d50",
   "outputs": [],
   "execution_count": 11
  },
  {
   "metadata": {
    "ExecuteTime": {
     "end_time": "2025-02-04T23:17:04.614238Z",
     "start_time": "2025-02-04T23:17:03.731983Z"
    }
   },
   "cell_type": "code",
   "source": "player_data_named.to_excel('rough_nfl_package_merged_2013.xlsx', index=False)",
   "id": "5f604ae2db9fe2d2",
   "outputs": [],
   "execution_count": 15
  },
  {
   "metadata": {},
   "cell_type": "code",
   "outputs": [],
   "execution_count": null,
   "source": "",
   "id": "819f29658caf1df2"
  }
 ],
 "metadata": {
  "kernelspec": {
   "display_name": "Python 3",
   "language": "python",
   "name": "python3"
  },
  "language_info": {
   "codemirror_mode": {
    "name": "ipython",
    "version": 2
   },
   "file_extension": ".py",
   "mimetype": "text/x-python",
   "name": "python",
   "nbconvert_exporter": "python",
   "pygments_lexer": "ipython2",
   "version": "2.7.6"
  }
 },
 "nbformat": 4,
 "nbformat_minor": 5
}
