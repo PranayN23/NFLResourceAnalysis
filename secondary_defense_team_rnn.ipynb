{
 "cells": [
  {
   "cell_type": "code",
   "execution_count": 1,
   "metadata": {},
   "outputs": [],
   "source": [
    "import tensorflow as tf\n",
    "import pandas as pd\n",
    "from sklearn.preprocessing import StandardScaler\n",
    "from sklearn.metrics import r2_score\n",
    "import numpy as np\n",
    "import matplotlib.pyplot as plt"
   ]
  },
  {
   "cell_type": "code",
   "execution_count": 2,
   "metadata": {},
   "outputs": [],
   "source": [
    "df = pd.read_csv('Combined_Secondary_Defense.csv')  # Replace with your actual data\n",
    "metric = 'Current_PFF'  # Specify the metric you want to predict"
   ]
  },
  {
   "cell_type": "code",
   "execution_count": 3,
   "metadata": {},
   "outputs": [
    {
     "name": "stdout",
     "output_type": "stream",
     "text": [
      "Index(['Unnamed: 0', 'Team', 'Year', 'Position', 'Value_cap_space',\n",
      "       'Value_draft_data', 'Current_AV', 'Current_PFF', 'Total DVOA',\n",
      "       'win-loss-pct',\n",
      "       ...\n",
      "       'Previous_snap_counts_pass_rush', 'Previous_snap_counts_run_defense',\n",
      "       'Previous_snap_counts_slot', 'Previous_stops', 'Previous_tackles',\n",
      "       'Previous_tackles_for_loss', 'Previous_targets',\n",
      "       'Previous_total_pressures', 'Previous_touchdowns', 'Previous_yards'],\n",
      "      dtype='object', length=109)\n"
     ]
    }
   ],
   "source": [
    "print(df.columns)"
   ]
  },
  {
   "cell_type": "code",
   "execution_count": 4,
   "metadata": {},
   "outputs": [],
   "source": [
    "columns_to_drop = ['Unnamed: 0']\n",
    "df = df.drop(columns=columns_to_drop)"
   ]
  },
  {
   "cell_type": "code",
   "execution_count": 5,
   "metadata": {},
   "outputs": [
    {
     "name": "stdout",
     "output_type": "stream",
     "text": [
      "      Team  Year Position  Value_cap_space  Value_draft_data  Current_AV  \\\n",
      "17   49ers  2019       DL        15.903294       1400.696696        53.0   \n",
      "49   49ers  2019       LB        15.993624        146.484990        28.0   \n",
      "81   49ers  2019       DB        15.313496        270.589442        35.0   \n",
      "114  49ers  2020       DL         6.755802       1402.398565        39.0   \n",
      "146  49ers  2020       LB         2.991927        144.514132        34.0   \n",
      "\n",
      "     Current_PFF Total DVOA  win-loss-pct  Net EPA  ...  \\\n",
      "17     76.896506     27.90%        0.8125    0.216  ...   \n",
      "49     63.131934     27.90%        0.8125    0.216  ...   \n",
      "81     74.600742     27.90%        0.8125    0.216  ...   \n",
      "114    60.632050      5.40%        0.3750    0.025  ...   \n",
      "146    73.581955      5.40%        0.3750    0.025  ...   \n",
      "\n",
      "     Previous_snap_counts_pass_rush  Previous_snap_counts_run_defense  \\\n",
      "17                       327.077444                        217.831236   \n",
      "49                        48.207362                        268.502249   \n",
      "81                         8.142729                        204.517260   \n",
      "114                      353.500695                        209.025754   \n",
      "146                       39.768498                        271.361315   \n",
      "\n",
      "     Previous_snap_counts_slot  Previous_stops  Previous_tackles  \\\n",
      "17                    0.268255       20.699975         24.562970   \n",
      "49                   45.320654       30.649080         57.180368   \n",
      "81                  105.954181        8.742204         29.438840   \n",
      "114                   0.000000       22.840702         23.495726   \n",
      "146                  55.151450       29.882735         63.191259   \n",
      "\n",
      "     Previous_tackles_for_loss  Previous_targets  Previous_total_pressures  \\\n",
      "17                    2.733330          1.496646                 31.275975   \n",
      "49                    2.782004         44.740286                  5.884663   \n",
      "81                    1.808494         33.775217                  1.758673   \n",
      "114                   3.291653          0.811324                 40.765711   \n",
      "146                   2.387278         56.373864                  6.795759   \n",
      "\n",
      "     Previous_touchdowns  Previous_yards  \n",
      "17              0.000000        9.072853  \n",
      "49              1.041309      327.929652  \n",
      "81              2.476668      266.051977  \n",
      "114             0.000000        6.653031  \n",
      "146             1.722631      370.846820  \n",
      "\n",
      "[5 rows x 108 columns]\n"
     ]
    }
   ],
   "source": [
    "df = df.sort_values(by=['Team', 'Year'])\n",
    "\n",
    "# Display the sorted data\n",
    "print(df.head())"
   ]
  },
  {
   "cell_type": "code",
   "execution_count": 6,
   "metadata": {},
   "outputs": [
    {
     "name": "stdout",
     "output_type": "stream",
     "text": [
      "<bound method GroupBy.head of <pandas.core.groupby.generic.DataFrameGroupBy object at 0x305138c90>>\n"
     ]
    }
   ],
   "source": [
    "team_data = df.groupby('Team')\n",
    "print(team_data.head)"
   ]
  },
  {
   "cell_type": "code",
   "execution_count": 8,
   "metadata": {},
   "outputs": [
    {
     "name": "stdout",
     "output_type": "stream",
     "text": [
      "Processing team: 49ers, data length: 12\n",
      "Processing team: Bears, data length: 12\n",
      "Processing team: Bengals, data length: 12\n",
      "Processing team: Bills, data length: 12\n",
      "Processing team: Broncos, data length: 12\n",
      "Processing team: Browns, data length: 12\n",
      "Processing team: Buccaneers, data length: 12\n",
      "Processing team: Cardinals, data length: 12\n",
      "Processing team: Chargers, data length: 12\n",
      "Processing team: Chiefs, data length: 12\n",
      "Processing team: Colts, data length: 12\n",
      "Processing team: Commanders, data length: 12\n",
      "Processing team: Cowboys, data length: 12\n",
      "Processing team: Dolphins, data length: 12\n",
      "Processing team: Eagles, data length: 12\n",
      "Processing team: Falcons, data length: 12\n",
      "Processing team: Giants, data length: 12\n",
      "Processing team: Jaguars, data length: 12\n",
      "Processing team: Jets, data length: 12\n",
      "Processing team: Lions, data length: 12\n",
      "Processing team: Packers, data length: 12\n",
      "Processing team: Panthers, data length: 12\n",
      "Processing team: Patriots, data length: 12\n",
      "Processing team: Raiders, data length: 12\n",
      "Processing team: Rams, data length: 12\n",
      "Processing team: Ravens, data length: 12\n",
      "Processing team: Saints, data length: 12\n",
      "Processing team: Seahawks, data length: 12\n",
      "Processing team: Steelers, data length: 12\n",
      "Processing team: Texans, data length: 12\n",
      "Processing team: Titans, data length: 12\n",
      "Processing team: Vikings, data length: 12\n",
      "Total sequences generated: 288\n",
      "X shape: (288, 3, 8), y shape: (288,)\n"
     ]
    }
   ],
   "source": [
    "import numpy as np\n",
    "\n",
    "sequences = []\n",
    "targets = []\n",
    "teams = []\n",
    "\n",
    "# Iterate over each team and its respective data\n",
    "for team, group in team_data:\n",
    "    teams.append(team)\n",
    "    # Ensure the team has at least 4 years of data\n",
    "    if len(group) >= 4:\n",
    "        print(f\"Processing team: {team}, data length: {len(group)}\")  # Debugging: check length of data for each team\n",
    "        \n",
    "        # Iterate through the data to create sequences for 3 years\n",
    "        for i in range(len(group) - 3):\n",
    "            # Select the relevant columns for the sequence\n",
    "            sequence = group.iloc[i:i+3][['win-loss-pct', 'Value_cap_space', 'weighted_avg_total_pressures', 'weighted_avg_hurries', 'Current_PFF', 'weighted_avg_grades_pass_rush_defense', \n",
    "                'Current_AV', 'weighted_avg_sacks']]\n",
    "  # Add more columns if needed\n",
    "            \n",
    "            # The target is the next year's Current_PFF\n",
    "            target = group.iloc[i+3]['Net EPA']  \n",
    "            \n",
    "            sequences.append(sequence.values)  # Add the sequence to the list\n",
    "            targets.append(target)  # Add the target to the list\n",
    "\n",
    "# Convert lists to numpy arrays\n",
    "X = np.array(sequences)\n",
    "y = np.array(targets)\n",
    "\n",
    "\n",
    "\n",
    "print(f\"Total sequences generated: {len(sequences)}\")\n",
    "print(f\"X shape: {X.shape}, y shape: {y.shape}\")"
   ]
  },
  {
   "cell_type": "code",
   "execution_count": null,
   "metadata": {},
   "outputs": [],
   "source": []
  }
 ],
 "metadata": {
  "kernelspec": {
   "display_name": "base",
   "language": "python",
   "name": "python3"
  },
  "language_info": {
   "codemirror_mode": {
    "name": "ipython",
    "version": 3
   },
   "file_extension": ".py",
   "mimetype": "text/x-python",
   "name": "python",
   "nbconvert_exporter": "python",
   "pygments_lexer": "ipython3",
   "version": "3.11.5"
  }
 },
 "nbformat": 4,
 "nbformat_minor": 2
}
